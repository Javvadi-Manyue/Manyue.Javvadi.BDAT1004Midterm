{
 "cells": [
  {
   "cell_type": "markdown",
   "id": "9a4265eb-fd42-4f76-8024-02d65ec04b9a",
   "metadata": {},
   "source": [
    "# Question 21:\n",
    "<font color=\"#FF0000\">\n",
    "    \n",
    "***\n",
    "__int()__: : Constructor that takes as input a pair of Point objects that represent the ends points of the line segment\n",
    "\n",
    "Length():: returns the length if the segment\n",
    "\n",
    "Slope() returns the slope of the segment of none if the slope is unbounded\n",
    "\n",
    "p1 = Point(3,4)\n",
    "\n",
    "p2 = Point()\n",
    "\n",
    "s = Segment(p1,p2)\n",
    "\n",
    "s.length()\n",
    "\n",
    "5.0\n",
    "\n",
    "s.slope()\n",
    "\n",
    "0.75 \n",
    "***\n",
    "    \n",
    "</font>"
   ]
  },
  {
   "cell_type": "code",
   "execution_count": 4,
   "id": "a78f4880-169c-4391-951b-887ceb4fa38c",
   "metadata": {
    "tags": []
   },
   "outputs": [
    {
     "name": "stdout",
     "output_type": "stream",
     "text": [
      "Length -  5.0\n",
      "The Slope -  1.3333333333333333\n"
     ]
    }
   ],
   "source": [
    "import math\n",
    "\n",
    "class Point:\n",
    "    def __init__(self, x=0, y=0):\n",
    "        self.x = x\n",
    "        self.y = y\n",
    "\n",
    "class Segment:\n",
    "    def __init__(self, pt1, pt2):\n",
    "        self.pt1 = pt1\n",
    "        self.pt2 = pt2\n",
    "    \n",
    "    def length(self):\n",
    "        return math.sqrt((self.pt2.x - self.pt1.x)**2 + (self.pt2.y - self.pt1.y)**2)\n",
    "    \n",
    "    def slope(self):\n",
    "        if self.pt2.x - self.pt1.x == 0:\n",
    "            return None\n",
    "        return (self.pt2.y - self.pt1.y) / (self.pt2.x - self.pt1.x)\n",
    "\n",
    "\n",
    "pt1 = Point(3, 4)\n",
    "pt2 = Point()\n",
    "s = Segment(pt1, pt2)\n",
    "\n",
    "print(\"Length - \", s.length())\n",
    "print(\"The Slope - \", s.slope())"
   ]
  },
  {
   "cell_type": "code",
   "execution_count": 5,
   "id": "ed7e12e6-c7bd-41c9-b7f5-345aea46fa5d",
   "metadata": {
    "tags": []
   },
   "outputs": [
    {
     "name": "stdout",
     "output_type": "stream",
     "text": [
      "Length -  5.0\n",
      "Slope -  0.75\n"
     ]
    }
   ],
   "source": [
    "pt1 = Point(4, 3)\n",
    "pt2 = Point()\n",
    "s = Segment(pt1, pt2)\n",
    "\n",
    "print(\"Length - \", s.length())\n",
    "print(\"Slope - \", s.slope())"
   ]
  }
 ],
 "metadata": {
  "kernelspec": {
   "display_name": "Python 3 (ipykernel)",
   "language": "python",
   "name": "python3"
  },
  "language_info": {
   "codemirror_mode": {
    "name": "ipython",
    "version": 3
   },
   "file_extension": ".py",
   "mimetype": "text/x-python",
   "name": "python",
   "nbconvert_exporter": "python",
   "pygments_lexer": "ipython3",
   "version": "3.11.5"
  }
 },
 "nbformat": 4,
 "nbformat_minor": 5
}
