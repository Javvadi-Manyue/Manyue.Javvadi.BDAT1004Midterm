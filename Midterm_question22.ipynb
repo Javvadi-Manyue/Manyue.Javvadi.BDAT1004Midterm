{
 "cells": [
  {
   "cell_type": "markdown",
   "id": "7d1821dc-3c4a-4459-a87d-b879bb6976e0",
   "metadata": {},
   "source": [
    "# Question 22\n",
    "<font color=\"#FF0000\">\n",
    "    \n",
    "***\n",
    "Write a solution to find all dates' Id with higher temperatures compared to its previous dates (yesterday).\n",
    "\n",
    "Return the result table in any order.\n",
    "\n",
    "Please use the following input Weather table for your solution. To receive full marks you will need to create the database, create the table, insert the data below and execute the SQL query.  \n",
    "    \n",
    "***\n",
    "    \n",
    "</font>"
   ]
  },
  {
   "cell_type": "code",
   "execution_count": 1,
   "id": "4d19c9fa-800e-4005-838f-2b84a96d8b50",
   "metadata": {
    "tags": []
   },
   "outputs": [
    {
     "name": "stdout",
     "output_type": "stream",
     "text": [
      "Output:\n",
      "2\n",
      "4\n"
     ]
    }
   ],
   "source": [
    "import sqlite3\n",
    "\n",
    "# Create a SQLite database\n",
    "conn = sqlite3.connect('Weather.db')\n",
    "cur = conn.cursor()\n",
    "\n",
    "# Create the Weather table\n",
    "cur.execute('''CREATE TABLE IF NOT EXISTS Weather (\n",
    "               id INTEGER PRIMARY KEY,\n",
    "               recordDate DATE,\n",
    "               temperature INTEGER\n",
    "               )''')\n",
    "\n",
    "# Insert data into the Weather table\n",
    "data = [\n",
    "    (1, '2015-01-01', 10),\n",
    "    (2, '2015-01-02', 25),\n",
    "    (3, '2015-01-03', 20),\n",
    "    (4, '2015-01-04', 30)\n",
    "]\n",
    "\n",
    "cur.executemany('INSERT INTO Weather VALUES (?, ?, ?)', data)\n",
    "conn.commit()\n",
    "\n",
    "# Execute the SQL query\n",
    "cur.execute('''SELECT w.id\n",
    "               FROM Weather w\n",
    "               JOIN Weather w_prev ON w.id = w_prev.id + 1\n",
    "               WHERE w.temperature > w_prev.temperature\n",
    "               ''')\n",
    "\n",
    "# Fetch and print the results\n",
    "rows = cur.fetchall()\n",
    "print(\"Output:\")\n",
    "for row in rows:\n",
    "    print(row[0])\n",
    "\n",
    "# Close the database connection\n",
    "conn.close()"
   ]
  }
 ],
 "metadata": {
  "kernelspec": {
   "display_name": "Python 3 (ipykernel)",
   "language": "python",
   "name": "python3"
  },
  "language_info": {
   "codemirror_mode": {
    "name": "ipython",
    "version": 3
   },
   "file_extension": ".py",
   "mimetype": "text/x-python",
   "name": "python",
   "nbconvert_exporter": "python",
   "pygments_lexer": "ipython3",
   "version": "3.11.5"
  }
 },
 "nbformat": 4,
 "nbformat_minor": 5
}
