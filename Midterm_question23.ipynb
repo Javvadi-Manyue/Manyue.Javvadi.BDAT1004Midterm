{
 "cells": [
  {
   "cell_type": "markdown",
   "id": "d445b411-8a79-470c-861e-be571b2f67c1",
   "metadata": {},
   "source": [
    "# Question 23\n",
    "<font color=\"#FF0000\">\n",
    "    \n",
    "***\n",
    "Develop a recursive function tough() that takes two nonnegative integer arguments and outputs a pattern as shown below. Hint: The first argument represents the indentation of the pattern, where the second argument -- always a pattern of 2 indicates the number *s in the longest line of *s in the pattern\n",
    "***\n",
    "    \n",
    "</font>"
   ]
  },
  {
   "cell_type": "code",
   "execution_count": 6,
   "id": "79512284-fcc9-4ce6-a80c-eb347c0a0178",
   "metadata": {
    "tags": []
   },
   "outputs": [],
   "source": [
    "def tough(x, y):\n",
    "    if y == 1:\n",
    "      \n",
    "        print(' ' * x + '*')\n",
    "    else:\n",
    "        tough(x + y // 2, y // 2)\n",
    "        \n",
    "        print(' ' * x + '*' * y)\n",
    "        \n",
    "        tough(x + y // 2, y // 2)\n"
   ]
  },
  {
   "cell_type": "code",
   "execution_count": 5,
   "id": "904ca7ad-e011-4a57-96ef-63d5af8db555",
   "metadata": {
    "tags": []
   },
   "outputs": [],
   "source": [
    "# TestCases:"
   ]
  },
  {
   "cell_type": "code",
   "execution_count": 4,
   "id": "8d63154d-1906-4323-bb02-0b6b45903a93",
   "metadata": {
    "tags": []
   },
   "outputs": [
    {
     "name": "stdout",
     "output_type": "stream",
     "text": [
      "*\n"
     ]
    }
   ],
   "source": [
    "tough(0, 1)  # x 0, y 1"
   ]
  },
  {
   "cell_type": "code",
   "execution_count": 2,
   "id": "b81154ba-68f8-43aa-bd48-7088601afcc6",
   "metadata": {
    "tags": []
   },
   "outputs": [
    {
     "name": "stdout",
     "output_type": "stream",
     "text": [
      " *\n",
      "**\n",
      " *\n"
     ]
    }
   ],
   "source": [
    "tough(0,2)"
   ]
  },
  {
   "cell_type": "code",
   "execution_count": 3,
   "id": "3e97880a-afb1-40d4-a70c-55800ed72666",
   "metadata": {
    "tags": []
   },
   "outputs": [
    {
     "name": "stdout",
     "output_type": "stream",
     "text": [
      "   *\n",
      "  **\n",
      "   *\n",
      "****\n",
      "   *\n",
      "  **\n",
      "   *\n"
     ]
    }
   ],
   "source": [
    "tough(0,4)"
   ]
  }
 ],
 "metadata": {
  "kernelspec": {
   "display_name": "Python 3 (ipykernel)",
   "language": "python",
   "name": "python3"
  },
  "language_info": {
   "codemirror_mode": {
    "name": "ipython",
    "version": 3
   },
   "file_extension": ".py",
   "mimetype": "text/x-python",
   "name": "python",
   "nbconvert_exporter": "python",
   "pygments_lexer": "ipython3",
   "version": "3.11.5"
  }
 },
 "nbformat": 4,
 "nbformat_minor": 5
}
